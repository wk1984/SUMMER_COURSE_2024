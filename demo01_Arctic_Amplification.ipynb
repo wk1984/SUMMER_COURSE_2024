{
 "cells": [
  {
   "cell_type": "code",
   "execution_count": null,
   "metadata": {},
   "outputs": [],
   "source": [
    "import os\n",
    "import matplotlib.pyplot as plt\n",
    "import xarray as xr\n",
    "import cartopy.crs as ccrs"
   ]
  },
  {
   "cell_type": "code",
   "execution_count": null,
   "metadata": {},
   "outputs": [],
   "source": [
    "filename = 'tas_mon_one_ssp126_192_ave.nc' # SSPs:126, 245, 370, 585 \n",
    "\n",
    "if os.path.exists(filename) == False:\n",
    "\n",
    "    # 如果没有这个文件，自动去网上下载\n",
    "\n",
    "    os.system('wget https://climexp.knmi.nl/CMIP6/monthly/tas/'+filename)"
   ]
  },
  {
   "cell_type": "code",
   "execution_count": null,
   "metadata": {},
   "outputs": [],
   "source": [
    "# 打开这个NC文件\n",
    "\n",
    "ncid = xr.open_dataset(filename)\n",
    "\n",
    "# 因为源文件是K，转为摄氏度\n",
    "\n",
    "ncid['tas'] = ncid['tas'] - 273.15"
   ]
  },
  {
   "cell_type": "code",
   "execution_count": null,
   "metadata": {},
   "outputs": [],
   "source": [
    "# 选取北半球的数据\n",
    "\n",
    "ncid = ncid.sel(lat = slice(0,90))"
   ]
  },
  {
   "cell_type": "code",
   "execution_count": null,
   "metadata": {},
   "outputs": [],
   "source": [
    "# 计算年平均值\n",
    "\n",
    "ncid = ncid.resample(time = '1YE').mean('time') \n",
    "ncid"
   ]
  },
  {
   "cell_type": "code",
   "execution_count": null,
   "metadata": {},
   "outputs": [],
   "source": [
    "# 计算一下1971-2000期间的平均值，然后画个地图看看\n",
    "\n",
    "fig, axis = plt.subplots(1, 1, subplot_kw=dict(projection=ccrs.Orthographic(0, 90)))\n",
    "\n",
    "ncid.sel(time = slice('1971','2000')).mean('time')['tas'].plot(transform=ccrs.PlateCarree()),  # this is important!)\n",
    "\n",
    "axis.coastlines()  # cartopy function"
   ]
  },
  {
   "cell_type": "code",
   "execution_count": null,
   "metadata": {},
   "outputs": [],
   "source": [
    "# 计算一下1971-2000期间的平均值\n",
    "# 再计算一下2071-2100期间的平均值\n",
    "# 用2071-2100减去1971-2000，然后画个地图看看两个时期之间的气温差异\n",
    "\n",
    "fig, axis = plt.subplots(1, 1, subplot_kw=dict(projection=ccrs.Orthographic(0, 90)))\n",
    "\n",
    "(ncid.sel(time = slice('2071','2100')).mean('time') - ncid.sel(time = slice('1971','2000')).mean('time'))['tas'].plot(transform=ccrs.PlateCarree()),  # this is important!)\n",
    "\n",
    "axis.coastlines()  # cartopy function"
   ]
  },
  {
   "cell_type": "code",
   "execution_count": null,
   "metadata": {},
   "outputs": [],
   "source": [
    "# 计算0-30N的平均气温\n",
    "# 计算60-90N的平均气温\n",
    "# 比较一下两个时间序列\n",
    "\n",
    "ncid.sel(lat = slice(0,30)).mean('lat').mean('lon')['tas'].plot(label = '0-30N')\n",
    "ncid.sel(lat = slice(60,90)).mean('lat').mean('lon')['tas'].plot(label = '60-90N')\n",
    "plt.legend()"
   ]
  },
  {
   "cell_type": "markdown",
   "metadata": {},
   "source": [
    "### 你会发现，这两个序列差的太远了，不太好比较。\n",
    "### 为了比较，往往会先计算距平值(Anomaly or Departure)"
   ]
  },
  {
   "cell_type": "code",
   "execution_count": null,
   "metadata": {},
   "outputs": [],
   "source": [
    "anom = ncid - ncid.sel(time = slice('1971','2000')).mean('time')\n",
    "\n",
    "anom.sel(lat = slice(0,30)).mean('lat').mean('lon')['tas'].plot(label = '0-30N')\n",
    "anom.sel(lat = slice(60,90)).mean('lat').mean('lon')['tas'].plot(label = '60-90N')\n",
    "plt.legend()"
   ]
  },
  {
   "cell_type": "code",
   "execution_count": null,
   "metadata": {},
   "outputs": [],
   "source": [
    "ncid.sel(time = slice('1971','2000')).mean('lon').mean('time')['tas'].plot(label = '1971-2000')\n",
    "ncid.sel(time = slice('2071','2100')).mean('lon').mean('time')['tas'].plot(label = '2071-2100')\n",
    "\n",
    "plt.legend()"
   ]
  },
  {
   "cell_type": "code",
   "execution_count": null,
   "metadata": {},
   "outputs": [],
   "source": [
    "(ncid.sel(time = slice('2071','2100')).mean('lon').mean('time') - ncid.sel(time = slice('1971','2000')).mean('lon').mean('time'))['tas'].plot(label = '1971-2000')\n",
    "\n",
    "plt.legend()"
   ]
  },
  {
   "cell_type": "markdown",
   "metadata": {},
   "source": [
    "### 同学们可以尝试看看用距平值（anom）计算结果如何？"
   ]
  }
 ],
 "metadata": {
  "kernelspec": {
   "display_name": "Python 3 (ipykernel)",
   "language": "python",
   "name": "python3"
  },
  "language_info": {
   "codemirror_mode": {
    "name": "ipython",
    "version": 3
   },
   "file_extension": ".py",
   "mimetype": "text/x-python",
   "name": "python",
   "nbconvert_exporter": "python",
   "pygments_lexer": "ipython3",
   "version": "3.9.18"
  }
 },
 "nbformat": 4,
 "nbformat_minor": 4
}
