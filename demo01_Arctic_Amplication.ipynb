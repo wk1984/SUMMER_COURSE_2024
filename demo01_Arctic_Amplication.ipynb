{
 "cells": [
  {
   "cell_type": "code",
   "execution_count": null,
   "metadata": {},
   "outputs": [],
   "source": [
    "import os\n",
    "import matplotlib.pyplot as plt\n",
    "import xarray as xr\n",
    "import cartopy.crs as ccrs"
   ]
  },
  {
   "cell_type": "code",
   "execution_count": null,
   "metadata": {},
   "outputs": [],
   "source": [
    "filename = 'tas_mon_one_ssp126_192_ave.nc'\n",
    "\n",
    "if os.path.exists(filename) == False:\n",
    "\n",
    "    os.system('wget https://climexp.knmi.nl/CMIP6/monthly/tas/'+filename)"
   ]
  },
  {
   "cell_type": "code",
   "execution_count": null,
   "metadata": {},
   "outputs": [],
   "source": [
    "ncid = xr.open_dataset(filename)\n",
    "\n",
    "ncid['tas'] = ncid['tas'] - 273.15"
   ]
  },
  {
   "cell_type": "code",
   "execution_count": null,
   "metadata": {},
   "outputs": [],
   "source": [
    "ncid = ncid.sel(lat = slice(0,90))"
   ]
  },
  {
   "cell_type": "code",
   "execution_count": null,
   "metadata": {},
   "outputs": [],
   "source": [
    "ncid = ncid.resample(time = '1A').mean('time') \n",
    "ncid"
   ]
  },
  {
   "cell_type": "code",
   "execution_count": null,
   "metadata": {},
   "outputs": [],
   "source": [
    "fig, axis = plt.subplots(1, 1, subplot_kw=dict(projection=ccrs.Orthographic(0, 90)))\n",
    "\n",
    "ncid.sel(time = slice('1971','2000')).mean('time')['tas'].plot(transform=ccrs.PlateCarree()),  # this is important!)\n",
    "\n",
    "axis.coastlines()  # cartopy function"
   ]
  },
  {
   "cell_type": "code",
   "execution_count": null,
   "metadata": {},
   "outputs": [],
   "source": [
    "fig, axis = plt.subplots(1, 1, subplot_kw=dict(projection=ccrs.Orthographic(0, 90)))\n",
    "\n",
    "(ncid.sel(time = slice('2071','2100')).mean('time') - ncid.sel(time = slice('1971','2000')).mean('time'))['tas'].plot(transform=ccrs.PlateCarree()),  # this is important!)\n",
    "\n",
    "axis.coastlines()  # cartopy function"
   ]
  },
  {
   "cell_type": "code",
   "execution_count": null,
   "metadata": {},
   "outputs": [],
   "source": [
    "ncid.sel(lat = slice(0,30)).mean('lat').mean('lon')['tas'].plot(label = '0-30N')\n",
    "ncid.sel(lat = slice(60,90)).mean('lat').mean('lon')['tas'].plot(label = '60-90N')\n",
    "plt.legend()"
   ]
  },
  {
   "cell_type": "code",
   "execution_count": null,
   "metadata": {},
   "outputs": [],
   "source": [
    "anom = ncid - ncid.sel(time = slice('1971','2000')).mean('time')\n",
    "\n",
    "anom.sel(lat = slice(0,30)).mean('lat').mean('lon')['tas'].plot(label = '0-30N')\n",
    "anom.sel(lat = slice(60,90)).mean('lat').mean('lon')['tas'].plot(label = '60-90N')\n",
    "plt.legend()"
   ]
  },
  {
   "cell_type": "code",
   "execution_count": null,
   "metadata": {},
   "outputs": [],
   "source": [
    "ncid.sel(time = slice('1971','2000')).mean('lon').mean('time')['tas'].plot(label = '1971-2000')\n",
    "\n",
    "ncid.sel(time = slice('2071','2100')).mean('lon').mean('time')['tas'].plot(label = '2071-2100')\n",
    "\n",
    "plt.legend()"
   ]
  },
  {
   "cell_type": "code",
   "execution_count": null,
   "metadata": {},
   "outputs": [],
   "source": [
    "(ncid.sel(time = slice('2071','2100')).mean('lon').mean('time') - ncid.sel(time = slice('1971','2000')).mean('lon').mean('time'))['tas'].plot(label = '1971-2000')\n",
    "\n",
    "plt.legend()"
   ]
  },
  {
   "cell_type": "code",
   "execution_count": null,
   "metadata": {},
   "outputs": [],
   "source": [
    "# anom.sel(time = slice('1971','2000')).mean('lon').mean('time')['tas'].plot(label = '1971-2000')\n",
    "\n",
    "anom.sel(time = slice('2071','2100')).mean('lon').mean('time')['tas'].plot(label = '2071-2100')\n",
    "\n",
    "plt.legend()"
   ]
  }
 ],
 "metadata": {
  "kernelspec": {
   "display_name": "Python 3 (ipykernel)",
   "language": "python",
   "name": "python3"
  },
  "language_info": {
   "codemirror_mode": {
    "name": "ipython",
    "version": 3
   },
   "file_extension": ".py",
   "mimetype": "text/x-python",
   "name": "python",
   "nbconvert_exporter": "python",
   "pygments_lexer": "ipython3",
   "version": "3.9.18"
  }
 },
 "nbformat": 4,
 "nbformat_minor": 4
}
